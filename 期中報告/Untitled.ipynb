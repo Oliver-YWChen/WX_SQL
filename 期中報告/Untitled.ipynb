{
 "cells": [
  {
   "cell_type": "code",
   "execution_count": null,
   "metadata": {},
   "outputs": [
    {
     "name": "stderr",
     "output_type": "stream",
     "text": [
      "D:\\Anaconda\\lib\\site-packages\\ipykernel_launcher.py:63: wxPyDeprecationWarning: Using deprecated class PySimpleApp. Use :class:`App` instead.\n"
     ]
    }
   ],
   "source": [
    "#coding:utf-8\n",
    "import wx,string,random\n",
    "class MySalgar(wx.Frame):\n",
    "\tglobal anw,b,c,n\n",
    "\tdef __init__(self):\n",
    "\t\tglobal n\n",
    "\t\tn = 0\n",
    "\t\twx.Frame.__init__(self,parent=None,title=u\"終極密碼\",size=(350,320))\n",
    "\t\tpanel = wx.Panel(self)\n",
    "\t\twx.StaticText(parent=panel,label=u\"請輸入密碼範圍\",pos=(10,30))\n",
    "\t\tself.b = wx.TextCtrl(parent=panel,pos=(100,30),size=(60, 23))\n",
    "\t\twx.StaticText(parent=panel,label=u\"~\",pos=(170,30))\n",
    "\t\tself.c = wx.TextCtrl(parent=panel,pos=(190,30),size=(60, 23))\n",
    "\t\tself.btn3 = wx.Button(parent=panel,label=u\"送出\",pos=(10,80))\n",
    "                              \n",
    "\t\twx.StaticText(parent=panel,label=u\"請輸入密碼\",pos=(10,130))\n",
    "\t\tself.a = wx.TextCtrl(parent=panel,pos=(100,130),size=(60, 23))      \n",
    "\t\tself.btn1 = wx.Button(parent=panel,label=u\"確認\",pos=(10,210))\n",
    "\t\tself.btn2 = wx.Button(parent=panel,label=u\"重來\",pos=(120,210))\n",
    "\n",
    "\t\tself.Bind(wx.EVT_BUTTON,self.BtnClick1,self.btn1)\n",
    "\t\tself.Bind(wx.EVT_BUTTON,self.BtnClick2,self.btn2)\n",
    "\t\tself.Bind(wx.EVT_BUTTON,self.BtnClick3,self.btn3)\n",
    "\n",
    "\t\tself.message1 = wx.StaticText(parent=panel,pos=(10,170),size=(30,30))\n",
    "\t\tself.message2 = wx.StaticText(parent=panel,pos=(180,130),size=(30,30))\n",
    "    \n",
    "\tdef BtnClick3(self,event):\n",
    "\t\tglobal anw,b,c,n\n",
    "\t\tb = int(self.b.GetValue())\n",
    "\t\tc = int(self.c.GetValue())\n",
    "\t\tn = 0\n",
    "\t\tanw = int(random.randint(b,c))\n",
    "        \n",
    "\tdef BtnClick1(self,event):\n",
    "\t\tglobal anw,b,c,n\n",
    "\t\ta = self.a.GetValue()\n",
    "\t\ta = int(a)\n",
    "\t\tn = n + 1\n",
    "\t\tmessageStr2 = '你已猜了%d次' %n\n",
    "\t\tif a > c:\n",
    "\t\t\tmessageStr = '太大　超出範圍啦！'         \n",
    "\t\telif a < b:\n",
    "\t\t\tmessageStr = '太小　超出範圍啦！'\n",
    "\t\telif a > anw:\n",
    "\t\t\tmessageStr = '數字太大'\n",
    "\t\telif a < anw:\n",
    "\t\t\tmessageStr = '數字太小'\n",
    "\t\telif a == anw:\n",
    "\t\t\tmessageStr = '猜中啦！'\n",
    "\t\t\tn = n - 1            \n",
    "\t\tself.message1.SetLabel(messageStr)\n",
    "\t\tself.message2.SetLabel(messageStr2)\n",
    " \n",
    "\tdef BtnClick2(self,event):\n",
    "\t\tglobal anw,b,c,n\n",
    "\t\tself.message1.SetLabel('')\n",
    "\t\tself.message2.SetLabel('')\n",
    "\t\tanw = int(random.randint(b,c))            \n",
    "\t\tn = 0\n",
    "        \n",
    "if __name__ == '__main__':\n",
    "\tapp = wx.PySimpleApp()\n",
    "\tframe = MySalgar()\n",
    "\tframe.Show()\n",
    "\tapp.MainLoop()"
   ]
  },
  {
   "cell_type": "code",
   "execution_count": null,
   "metadata": {},
   "outputs": [],
   "source": []
  }
 ],
 "metadata": {
  "kernelspec": {
   "display_name": "Python 3",
   "language": "python",
   "name": "python3"
  },
  "language_info": {
   "codemirror_mode": {
    "name": "ipython",
    "version": 3
   },
   "file_extension": ".py",
   "mimetype": "text/x-python",
   "name": "python",
   "nbconvert_exporter": "python",
   "pygments_lexer": "ipython3",
   "version": "3.7.0"
  }
 },
 "nbformat": 4,
 "nbformat_minor": 2
}
