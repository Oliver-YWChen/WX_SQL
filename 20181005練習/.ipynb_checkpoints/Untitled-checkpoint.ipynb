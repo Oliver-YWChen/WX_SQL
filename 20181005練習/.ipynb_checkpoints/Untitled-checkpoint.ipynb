{
 "cells": [
  {
   "cell_type": "code",
   "execution_count": 26,
   "metadata": {
    "scrolled": true
   },
   "outputs": [],
   "source": [
    "import os\n",
    "filename = os.listdir('D:/20181005練習/政大')\n",
    "\n",
    "n = 0\n",
    "\n",
    "for i in filename:\n",
    "    n = n + 1\n",
    "    newname = 'nccu%02d' % n + '.jpg'\n",
    "    os.rename('政大' + '/' + i , newname)"
   ]
  },
  {
   "cell_type": "code",
   "execution_count": null,
   "metadata": {},
   "outputs": [],
   "source": [
    "import os\n",
    "filelist = os.listdir('D:/20181005練習/air')\n",
    "path = 'D:/20181005練習/air'\n",
    "\n",
    "read = open(path + '/' + afile , 'r')\n",
    "write = open(path + '/' + afile , 'a')\n",
    "\n",
    "n = 0\n",
    "\n",
    "for afile in filelist:\n",
    "    \n",
    "    if '.csv' in afile:\n",
    "        n = n + 1\n",
    "        \n",
    "        if n < 2 :\n",
    "            write\n",
    "        \n",
    "        if n > 1 :\n",
    "            read\n",
    "            for i in read:\n",
    "                write.write(i)\n",
    "                \n",
    "read.close()\n",
    "write.close()"
   ]
  },
  {
   "cell_type": "code",
   "execution_count": 93,
   "metadata": {},
   "outputs": [],
   "source": [
    "import os\n",
    "path = 'D:/20181005練習/test'\n",
    "\n",
    "read = open(path + '/' + '02.txt' , 'r')\n",
    "write = open(path + '/' + '01.txt' , 'a')\n",
    "for i in read:\n",
    "    write.write(i)\n",
    "    \n",
    "read.close()\n",
    "write.close()"
   ]
  }
 ],
 "metadata": {
  "kernelspec": {
   "display_name": "Python 3",
   "language": "python",
   "name": "python3"
  },
  "language_info": {
   "codemirror_mode": {
    "name": "ipython",
    "version": 3
   },
   "file_extension": ".py",
   "mimetype": "text/x-python",
   "name": "python",
   "nbconvert_exporter": "python",
   "pygments_lexer": "ipython3",
   "version": "3.6.5"
  }
 },
 "nbformat": 4,
 "nbformat_minor": 2
}
