{
 "cells": [
  {
   "cell_type": "code",
   "execution_count": 1,
   "metadata": {},
   "outputs": [
    {
     "name": "stdout",
     "output_type": "stream",
     "text": [
      "<open file './output.txt', mode 'w' at 0x0368FA70>\n"
     ]
    }
   ],
   "source": [
    "fout = open(\"./output.txt\", \"w\")\n",
    "#fout = open(\"output.txt\")\n",
    "print fout\n",
    "line1 = \"this is a text,\"\n",
    "line2 = \"this is the second line,\\n\"\n",
    "fout.write(line1)\n",
    "fout.write(line2)\n",
    "fout.close()"
   ]
  },
  {
   "cell_type": "code",
   "execution_count": 2,
   "metadata": {},
   "outputs": [
    {
     "name": "stdout",
     "output_type": "stream",
     "text": [
      "G:\\Lectures\\OOP104A\\notebook\n"
     ]
    }
   ],
   "source": [
    "import os\n",
    "cwd = os.getcwd()\n",
    "print cwd"
   ]
  },
  {
   "cell_type": "code",
   "execution_count": 3,
   "metadata": {},
   "outputs": [
    {
     "name": "stdout",
     "output_type": "stream",
     "text": [
      " 磁碟區 G 中的磁碟是 VERBATIM128\n",
      " 磁碟區序號:  36CA-C043\n",
      "\n",
      " G:\\Lectures\\OOP104A\\notebook 的目錄\n",
      "\n",
      "2015/09/16  上午 09:58    <DIR>          .\n",
      "2015/09/16  上午 09:58    <DIR>          ..\n",
      "2015/09/16  上午 09:59    <DIR>          .ipynb_checkpoints\n",
      "2015/10/07  上午 10:35            14,270 Chapter11.ipynb\n",
      "2015/10/07  上午 11:21             1,875 Quiz1.ipynb\n",
      "2015/10/14  上午 11:51            18,952 Chapter12.ipynb\n",
      "2015/10/15  上午 12:09             6,496 Untitled.ipynb\n",
      "2015/10/18  上午 10:40             4,584 Chapter12_exercise.ipynb\n",
      "2015/11/18  上午 10:23                41 output.txt\n",
      "2015/11/04  上午 10:52                78 Untitled2.ipynb\n",
      "2015/11/04  下午 12:02             9,199 Chapter13.ipynb\n",
      "2015/11/10  下午 11:58                30 testdata.txt\n",
      "2015/11/11  上午 01:50             2,228 Untitled1.ipynb\n",
      "2015/11/18  上午 10:23             6,809 Chapter14.ipynb\n",
      "              11 個檔案          64,562 位元組\n",
      "               3 個目錄  93,215,916,032 位元組可用\n"
     ]
    }
   ],
   "source": [
    "!dir"
   ]
  },
  {
   "cell_type": "code",
   "execution_count": 4,
   "metadata": {},
   "outputs": [],
   "source": [
    "t = os.listdir(cwd)"
   ]
  },
  {
   "cell_type": "code",
   "execution_count": 6,
   "metadata": {},
   "outputs": [
    {
     "name": "stdout",
     "output_type": "stream",
     "text": [
      ".ipynb_checkpoints True\n",
      "Chapter11.ipynb False\n"
     ]
    }
   ],
   "source": [
    "print t[0], os.path.isdir(t[0])\n",
    "print t[1], os.path.isdir(t[1])"
   ]
  },
  {
   "cell_type": "code",
   "execution_count": 7,
   "metadata": {},
   "outputs": [
    {
     "data": {
      "text/plain": [
       "'G:\\\\Lectures\\\\OOP104A\\\\notebook\\\\Chapter11.ipynb'"
      ]
     },
     "execution_count": 7,
     "metadata": {},
     "output_type": "execute_result"
    }
   ],
   "source": [
    "os.path.abspath(t[1])"
   ]
  },
  {
   "cell_type": "code",
   "execution_count": 7,
   "metadata": {},
   "outputs": [
    {
     "data": {
      "text/plain": [
       "True"
      ]
     },
     "execution_count": 7,
     "metadata": {},
     "output_type": "execute_result"
    }
   ],
   "source": [
    "os.path.exists(t[1])"
   ]
  },
  {
   "cell_type": "code",
   "execution_count": 9,
   "metadata": {},
   "outputs": [
    {
     "data": {
      "text/plain": [
       "True"
      ]
     },
     "execution_count": 9,
     "metadata": {},
     "output_type": "execute_result"
    }
   ],
   "source": [
    "os.path.isfile(t[1])"
   ]
  },
  {
   "cell_type": "code",
   "execution_count": 17,
   "metadata": {},
   "outputs": [
    {
     "name": "stdout",
     "output_type": "stream",
     "text": [
      "t[0] =  .ipynb_checkpoints\n",
      "current directory =  G:\\Lectures\\OOP104A\\notebook\n",
      "all files and directories under current directory:\n",
      "path =  .\\.ipynb_checkpoints\n",
      "path =  .\\.ipynb_checkpoints\\Chapter11-checkpoint.ipynb\n",
      "G:\\Lectures\\OOP104A\\notebook\\.ipynb_checkpoints\\Chapter11-checkpoint.ipynb\n",
      "path =  .\\.ipynb_checkpoints\\Untitled-checkpoint.ipynb\n",
      "G:\\Lectures\\OOP104A\\notebook\\.ipynb_checkpoints\\Untitled-checkpoint.ipynb\n",
      "path =  .\\.ipynb_checkpoints\\Quiz1-checkpoint.ipynb\n",
      "G:\\Lectures\\OOP104A\\notebook\\.ipynb_checkpoints\\Quiz1-checkpoint.ipynb\n",
      "path =  .\\.ipynb_checkpoints\\Chapter12-checkpoint.ipynb\n",
      "G:\\Lectures\\OOP104A\\notebook\\.ipynb_checkpoints\\Chapter12-checkpoint.ipynb\n",
      "path =  .\\.ipynb_checkpoints\\Chapter12_exercise-checkpoint.ipynb\n",
      "G:\\Lectures\\OOP104A\\notebook\\.ipynb_checkpoints\\Chapter12_exercise-checkpoint.ipynb\n",
      "path =  .\\.ipynb_checkpoints\\Chapter13-checkpoint.ipynb\n",
      "G:\\Lectures\\OOP104A\\notebook\\.ipynb_checkpoints\\Chapter13-checkpoint.ipynb\n",
      "path =  .\\.ipynb_checkpoints\\Untitled2-checkpoint.ipynb\n",
      "G:\\Lectures\\OOP104A\\notebook\\.ipynb_checkpoints\\Untitled2-checkpoint.ipynb\n",
      "path =  .\\.ipynb_checkpoints\\Chapter14-checkpoint.ipynb\n",
      "G:\\Lectures\\OOP104A\\notebook\\.ipynb_checkpoints\\Chapter14-checkpoint.ipynb\n",
      "path =  .\\.ipynb_checkpoints\\Untitled1-checkpoint.ipynb\n",
      "G:\\Lectures\\OOP104A\\notebook\\.ipynb_checkpoints\\Untitled1-checkpoint.ipynb\n",
      "path =  .\\Chapter11.ipynb\n",
      "G:\\Lectures\\OOP104A\\notebook\\Chapter11.ipynb\n",
      "path =  .\\Quiz1.ipynb\n",
      "G:\\Lectures\\OOP104A\\notebook\\Quiz1.ipynb\n",
      "path =  .\\Chapter12.ipynb\n",
      "G:\\Lectures\\OOP104A\\notebook\\Chapter12.ipynb\n",
      "path =  .\\Untitled.ipynb\n",
      "G:\\Lectures\\OOP104A\\notebook\\Untitled.ipynb\n",
      "path =  .\\Chapter12_exercise.ipynb\n",
      "G:\\Lectures\\OOP104A\\notebook\\Chapter12_exercise.ipynb\n",
      "path =  .\\output.txt\n",
      "G:\\Lectures\\OOP104A\\notebook\\output.txt\n",
      "path =  .\\Untitled2.ipynb\n",
      "G:\\Lectures\\OOP104A\\notebook\\Untitled2.ipynb\n",
      "path =  .\\Chapter13.ipynb\n",
      "G:\\Lectures\\OOP104A\\notebook\\Chapter13.ipynb\n",
      "path =  .\\testdata.txt\n",
      "G:\\Lectures\\OOP104A\\notebook\\testdata.txt\n",
      "path =  .\\Untitled1.ipynb\n",
      "G:\\Lectures\\OOP104A\\notebook\\Untitled1.ipynb\n",
      "path =  .\\Chapter14.ipynb\n",
      "G:\\Lectures\\OOP104A\\notebook\\Chapter14.ipynb\n"
     ]
    }
   ],
   "source": [
    "def walk(dirname):\n",
    "    for name in os.listdir(dirname):\n",
    "        path = os.path.join(dirname, name)\n",
    "        print 'path = ', path\n",
    "        if os.path.isfile(path):\n",
    "            print os.path.abspath(path)\n",
    "        else:\n",
    "            walk(path)\n",
    "            \n",
    "print \"t[0] = \", t[0]\n",
    "print \"current directory = \", os.path.abspath(\".\")\n",
    "print \"all files and directories under current directory:\"\n",
    "walk(\".\")"
   ]
  },
  {
   "cell_type": "code",
   "execution_count": 11,
   "metadata": {},
   "outputs": [
    {
     "name": "stdout",
     "output_type": "stream",
     "text": [
      "\\L\n",
      "/L\n",
      "\\T\n",
      "/T\n",
      "/n\n",
      "\n",
      "\n"
     ]
    }
   ],
   "source": [
    "print '\\L'\n",
    "print '/L'\n",
    "print '\\T'\n",
    "print '/T'\n",
    "print '/n'\n",
    "print '\\n'"
   ]
  },
  {
   "cell_type": "code",
   "execution_count": 14,
   "metadata": {},
   "outputs": [
    {
     "name": "stdout",
     "output_type": "stream",
     "text": [
      "\u0007\n"
     ]
    }
   ],
   "source": [
    "print '\\a'"
   ]
  },
  {
   "cell_type": "code",
   "execution_count": 15,
   "metadata": {},
   "outputs": [
    {
     "name": "stdout",
     "output_type": "stream",
     "text": [
      "/tA\n",
      "\tA\n"
     ]
    }
   ],
   "source": [
    "print '/tA'\n",
    "print '\\tA'"
   ]
  },
  {
   "cell_type": "code",
   "execution_count": 4,
   "metadata": {},
   "outputs": [
    {
     "name": "stdout",
     "output_type": "stream",
     "text": [
      " �Ϻа� G �����ϺЬO VERBATIM128\n",
      " �ϺаϧǸ�:  36CA-C043\n",
      "\n",
      " G:\\Lectures\\OOP104A\\notebook ���ؿ�\n",
      "\n",
      "2015/09/16  �W�� 09:58    <DIR>          .\n",
      "2015/09/16  �W�� 09:58    <DIR>          ..\n",
      "2015/09/16  �W�� 09:59    <DIR>          .ipynb_checkpoints\n",
      "2015/10/07  �W�� 10:35            14,270 Chapter11.ipynb\n",
      "2015/10/07  �W�� 11:21             1,875 Quiz1.ipynb\n",
      "2015/10/14  �W�� 11:51            18,952 Chapter12.ipynb\n",
      "2015/10/15  �W�� 12:09             6,496 random.ipynb\n",
      "2015/10/18  �W�� 10:40             4,584 Chapter12_exercise.ipynb\n",
      "2015/11/18  �W�� 10:23                41 output.txt\n",
      "2015/11/04  �U�� 12:02             9,199 Chapter13.ipynb\n",
      "2015/11/10  �U�� 11:58                30 testdata.txt\n",
      "2015/11/11  �W�� 01:50             2,228 file_IO.ipynb\n",
      "2015/12/01  �U�� 06:52             2,048 mydatabase.db\n",
      "2015/12/01  �U�� 06:59             2,112 SQL_Create_Insert.ipynb\n",
      "2015/12/01  �U�� 06:59             1,159 SQL_Delete.ipynb\n",
      "2015/12/01  �U�� 07:00             2,585 SQL_Query.ipynb\n",
      "2015/12/01  �U�� 06:59             1,227 SQL_update.ipynb\n",
      "2015/12/01  �U�� 07:23            13,022 URL.ipynb\n",
      "2015/12/02  �W�� 09:55             1,323 tmp.txt\n",
      "2015/12/02  �W�� 10:05            10,014 Chapter14.ipynb\n",
      "              17 ���ɮ�          91,165 �줸��\n",
      "               3 �ӥؿ�  91,716,583,424 �줸�եi��\n",
      "\n"
     ]
    }
   ],
   "source": [
    "import os\n",
    "cmd = \"dir\"\n",
    "fp = os.popen(cmd)\n",
    "res = fp.read()\n",
    "print res\n",
    "fp.close()"
   ]
  },
  {
   "cell_type": "code",
   "execution_count": 5,
   "metadata": {},
   "outputs": [
    {
     "name": "stdout",
     "output_type": "stream",
     "text": [
      "1.57079632679 6.12323399574e-17 3.14159265359\n"
     ]
    }
   ],
   "source": [
    "import math\n",
    "x = 0.5 * math.pi\n",
    "y = math.cos(x)\n",
    "print x, y, math.pi"
   ]
  },
  {
   "cell_type": "code",
   "execution_count": 6,
   "metadata": {},
   "outputs": [
    {
     "name": "stdout",
     "output_type": "stream",
     "text": [
      "7\n"
     ]
    }
   ],
   "source": [
    "def linecount(filename):\n",
    "    count = 0\n",
    "    for line in open(filename):\n",
    "        count += 1\n",
    "    return count\n",
    "\n",
    "print linecount('wc.py')"
   ]
  },
  {
   "cell_type": "code",
   "execution_count": 8,
   "metadata": {},
   "outputs": [],
   "source": [
    "import wc"
   ]
  },
  {
   "cell_type": "code",
   "execution_count": 9,
   "metadata": {
    "collapsed": true
   },
   "outputs": [],
   "source": [
    "import wc"
   ]
  },
  {
   "cell_type": "code",
   "execution_count": null,
   "metadata": {
    "collapsed": true
   },
   "outputs": [],
   "source": []
  }
 ],
 "metadata": {
  "kernelspec": {
   "display_name": "Python 3",
   "language": "python",
   "name": "python3"
  },
  "language_info": {
   "codemirror_mode": {
    "name": "ipython",
    "version": 3
   },
   "file_extension": ".py",
   "mimetype": "text/x-python",
   "name": "python",
   "nbconvert_exporter": "python",
   "pygments_lexer": "ipython3",
   "version": "3.6.5"
  }
 },
 "nbformat": 4,
 "nbformat_minor": 1
}
