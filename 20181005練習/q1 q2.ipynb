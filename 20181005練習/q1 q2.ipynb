{
 "cells": [
  {
   "cell_type": "code",
   "execution_count": 4,
   "metadata": {
    "scrolled": true
   },
   "outputs": [],
   "source": [
    "#Q1\n",
    "import os\n",
    "\n",
    "path = 'D:/20181005練習/政大'\n",
    "os.chdir(path)\n",
    "filename = os.listdir(path)\n",
    "    \n",
    "n = 0\n",
    "\n",
    "for i in filename:\n",
    "    n = n + 1\n",
    "    newname = 'nccu%02d' % n + '.jpg'\n",
    "    os.rename(i , newname)"
   ]
  },
  {
   "cell_type": "code",
   "execution_count": 10,
   "metadata": {},
   "outputs": [],
   "source": [
    "#Q2\n",
    "import os\n",
    "\n",
    "path = 'D:/20181005練習/air'\n",
    "os.chdir(path)\n",
    "filelist = os.listdir(path)\n",
    "\n",
    "newfile =  'AirQuality.csv'\n",
    "w_in = open(newfile , 'w')\n",
    "\n",
    "for afile in filelist:\n",
    "    read = open(afile , 'r')\n",
    "    if '106' in afile:\n",
    "        read\n",
    "        for i in read:\n",
    "            w_in.write(i)\n",
    "                \n",
    "read.close()\n",
    "write.close()"
   ]
  },
  {
   "cell_type": "code",
   "execution_count": 10,
   "metadata": {},
   "outputs": [],
   "source": [
    "#test\n",
    "import os\n",
    "path = 'D:/20181005練習/test'\n",
    "\n",
    "read = open(path + '/' + '02.txt' , 'r')\n",
    "write = open(path + '/' + '01.txt' , 'a')\n",
    "for i in read:\n",
    "    write.write(i)\n",
    "    \n",
    "read.close()\n",
    "write.close()"
   ]
  },
  {
   "cell_type": "code",
   "execution_count": 8,
   "metadata": {},
   "outputs": [
    {
     "name": "stdout",
     "output_type": "stream",
     "text": [
      "日期,測站,測項,00,01,02,03,04,05,06,07,08,09,10,11,12,13,14,15,16,17,18,19,20,21,22,23\n",
      "\n",
      "2017/01/01,斗六,AMB_TEMP,19,19,18,,,,,,20#,22,24,26,27,27,26,26,24,22,21,21,20,20,20,20\n",
      "\n",
      "2017/01/01,斗六,CO,0.74,0.79,0.65,,,,,,0.66#,0.53,0.32,0.34,0.36,0.45,0.58,0.52,0.49,0.48,0.51,0.51,0.62,0.61,0.64,0.58\n",
      "\n",
      "2017/01/01,斗六,NO,14,14,11,,,,,,7.8#,10,3.9,4,3.6,4.4,3.5,4.1,4.4,3.9,4,4,5.4,5.4,5.9,4.9\n",
      "\n",
      "2017/01/01,斗六,NO2,23,23,21,,,,,,14#,18,7.1,5.6,5.8,8.6,13,15,19,16,17,18,27,22,22,22\n",
      "\n",
      "2017/01/01,斗六,NOx,37,37,32,,,,,,22#,29,11,9.6,9.4,13,17,19,24,20,21,22,32,28,28,27\n",
      "\n",
      "2017/01/01,斗六,O3,1.5x,1.5x,1.6x,,,,,,4.4#,19,40,56,71,85,87,74,41,34,29,24,10,11,8.8,7.9\n",
      "\n",
      "2017/01/01,斗六,PM10,89,71,70,71,67,53,44,40,38,31,33,43,53,67,90,99,96,75,77,86,92,88,86,96\n",
      "\n",
      "2017/01/01,斗六,PM2.5,67,40,21,32,36,38,21,8,1,19,22,24,31,41,67,74,61,50,28,39,38,44,49,57\n",
      "\n",
      "2017/01/01,斗六,RAINFALL,NR,NR,NR,,,,,,0#,NR,NR,NR,NR,NR,NR,NR,NR,NR,NR,NR,NR,NR,NR,NR\n",
      "\n",
      "2017/01/01,斗六,RH,90,91,91,,,,,,83#,76,66,60,59,60,64,67,75,81,85,86,88,90,90,90\n",
      "\n"
     ]
    }
   ],
   "source": [
    "#text\n",
    "import os\n",
    "path = 'D:/20181005練習/test'\n",
    "os.chdir(path)\n",
    "\n",
    "read = open(path + '/' + '106年斗六站_20180309.csv' , 'r')\n",
    "#write = open(path + '/' + '01.txt' , 'a')\n",
    "\n",
    "n = 0\n",
    "\n",
    "for i in read:\n",
    "    n = n + 1\n",
    "    if n < 12:\n",
    "        print(i)\n",
    "    \n",
    "read.close()\n",
    "#write.close()"
   ]
  },
  {
   "cell_type": "code",
   "execution_count": 34,
   "metadata": {},
   "outputs": [
    {
     "ename": "SyntaxError",
     "evalue": "unexpected character after line continuation character (<ipython-input-34-d8811b385719>, line 4)",
     "output_type": "error",
     "traceback": [
      "\u001b[1;36m  File \u001b[1;32m\"<ipython-input-34-d8811b385719>\"\u001b[1;36m, line \u001b[1;32m4\u001b[0m\n\u001b[1;33m    path_e = path_o.split(str=\\)\u001b[0m\n\u001b[1;37m                                ^\u001b[0m\n\u001b[1;31mSyntaxError\u001b[0m\u001b[1;31m:\u001b[0m unexpected character after line continuation character\n"
     ]
    }
   ],
   "source": [
    "import os\n",
    "\n",
    "path_o = 'D:\\胤維\\大三上\\物件導向\\0181207\\oop20181207\\list.db'\n",
    "path_e = path_o.split(str=\\)\n",
    "                      \n",
    "path = ''\n",
    "for i in range(len(path_e)-1):\n",
    "    if i != len(path_e)-2:\n",
    "        path = path + path_e[i] + '\\'\n",
    "    if i == len(path_e)-2:\n",
    "        path = path + path_e[i]\n",
    "\n",
    "d = path_e[len(path_e)-1]\n",
    "\n",
    "print(path)\n",
    "print(d)"
   ]
  },
  {
   "cell_type": "code",
   "execution_count": null,
   "metadata": {},
   "outputs": [],
   "source": []
  }
 ],
 "metadata": {
  "kernelspec": {
   "display_name": "Python 3",
   "language": "python",
   "name": "python3"
  },
  "language_info": {
   "codemirror_mode": {
    "name": "ipython",
    "version": 3
   },
   "file_extension": ".py",
   "mimetype": "text/x-python",
   "name": "python",
   "nbconvert_exporter": "python",
   "pygments_lexer": "ipython3",
   "version": "3.7.0"
  }
 },
 "nbformat": 4,
 "nbformat_minor": 2
}
