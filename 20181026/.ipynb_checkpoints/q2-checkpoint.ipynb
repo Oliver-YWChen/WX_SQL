{
 "cells": [
  {
   "cell_type": "code",
   "execution_count": 225,
   "metadata": {},
   "outputs": [],
   "source": [
    "import openpyxl\n",
    "from openpyxl import Workbook\n",
    "\n",
    "book = openpyxl.load_workbook('Mailiao.xlsx')\n",
    "sheet = book.active\n",
    "\n",
    "wb = Workbook()\n",
    "ws = wb.active\n",
    "\n",
    "for i in range(1,5):\n",
    "    sheet_name = '%02d' % float(6*(i-1))\n",
    "    ws = wb.create_sheet()\n",
    "    ws.title = sheet_name\n",
    "    \n",
    "    P = ['DATE', 'HOUR', '麥寮', 'PM10','PM2.5']\n",
    "    ws.append(P)\n",
    "\n",
    "    count = 1\n",
    "    count_1 = 1\n",
    "    L = 'ABCDE'\n",
    "    \n",
    "    for row in sheet.iter_rows(min_row = 2, min_col = 1, max_row = 8761, max_col = 5):\n",
    "        count = count + 1\n",
    "        v = str(sheet['B'+str(count)].value)\n",
    "        \n",
    "        \n",
    "        if i == 1 and '00:00:00' in v:\n",
    "            count_1 = count_1 + 1\n",
    "            for j in range(len(L)):                \n",
    "                cell = sheet[L[j]+str(count)].value\n",
    "                ws[L[j]+str(count_1)] = cell\n",
    "        \n",
    "        if i == 2 and '06:00:00' in v:\n",
    "            count_1 = count_1 + 1\n",
    "            for j in range(len(L)):\n",
    "                cell = sheet[L[j]+str(count)].value\n",
    "                ws[L[j]+str(count_1)] = cell\n",
    "        \n",
    "        if i == 3 and '12:00:00' in v:\n",
    "            count_1 = count_1 + 1\n",
    "            for j in range(len(L)):\n",
    "                cell = sheet[L[j]+str(count)].value\n",
    "                ws[L[j]+str(count_1)] = cell\n",
    "        \n",
    "        if i == 4 and '18:00:00' in v:\n",
    "            count_1 = count_1 + 1\n",
    "            for j in range(len(L)):\n",
    "                cell = sheet[L[j]+str(count)].value\n",
    "                ws[L[j]+str(count_1)] = cell   \n",
    "\n",
    "wb.save('q2.xlsx')"
   ]
  }
 ],
 "metadata": {
  "kernelspec": {
   "display_name": "Python 3",
   "language": "python",
   "name": "python3"
  },
  "language_info": {
   "codemirror_mode": {
    "name": "ipython",
    "version": 3
   },
   "file_extension": ".py",
   "mimetype": "text/x-python",
   "name": "python",
   "nbconvert_exporter": "python",
   "pygments_lexer": "ipython3",
   "version": "3.6.5"
  }
 },
 "nbformat": 4,
 "nbformat_minor": 2
}
