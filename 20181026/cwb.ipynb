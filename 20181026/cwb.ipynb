{
 "cells": [
  {
   "cell_type": "markdown",
   "metadata": {},
   "source": [
    "# 此程式示範如何利用Openpyxl產生一個EXCEL檔案，原始資料為氣象局的氣象站之觀測記錄。\n",
    "\n",
    "CWB資料夾中有子資料夾，資料夾的名稱為氣象站的編號，例如： <br>\n",
    "CWB\\467060 <br>\n",
    "CWB\\467080 <br>\n",
    "\n",
    "每個子資料夾中有歷年的氣象資料，例如： <br>\n",
    "CWB_M_467060_2001.txt <br>\n",
    "CWB_M_467060_2002.txt <br>\n",
    "CWB_M_467060_2003.txt <br>\n",
    "CWB_M_467060_2004.txt <br>\n",
    "CWB_M_467060_2005.txt <br>\n",
    "CWB_M_467060_2006.txt <br>\n",
    "CWB_M_467060_2007.txt <br>\n",
    "CWB_M_467060_2008.txt <br>\n",
    "CWB_M_467060_2009.txt <br>\n",
    "CWB_M_467060_2010.txt <br>\n",
    "\n",
    "氣象資料的檔案格式可參考：氣象資料處理需求.docx\n"
   ]
  },
  {
   "cell_type": "code",
   "execution_count": 1,
   "metadata": {},
   "outputs": [
    {
     "name": "stdout",
     "output_type": "stream",
     "text": [
      " 磁碟區 Z 中的磁碟是 Shared Folders\n",
      " 磁碟區序號:  0000-0064\n",
      "\n",
      " Z:\\win-2\\Lectures\\Statistics107A\\openpyxl\\cwb 的目錄\n",
      "\n",
      "2018/10/23  上午 08:32    <DIR>          .\n",
      "2018/10/23  上午 10:15    <DIR>          ..\n",
      "2018/10/23  上午 08:32    <DIR>          467060\n",
      "2018/10/23  上午 08:32    <DIR>          467080\n",
      "               0 個檔案          16,384 位元組\n",
      "               4 個目錄  1,052,697,169,920 位元組可用\n"
     ]
    }
   ],
   "source": [
    "!dir cwb"
   ]
  },
  {
   "cell_type": "code",
   "execution_count": 2,
   "metadata": {},
   "outputs": [
    {
     "name": "stdout",
     "output_type": "stream",
     "text": [
      " 磁碟區 Z 中的磁碟是 Shared Folders\n",
      " 磁碟區序號:  0000-0064\n",
      "\n",
      " Z:\\win-2\\Lectures\\Statistics107A\\openpyxl\\cwb\\467060 的目錄\n",
      "\n",
      "2014/12/09  下午 06:30             7,644 CWB_M_467060_2007.txt\n",
      "2014/12/09  下午 06:30             7,644 CWB_M_467060_2005.txt\n",
      "2018/10/23  上午 08:32    <DIR>          .\n",
      "2014/12/09  下午 06:30             7,644 CWB_M_467060_2010.txt\n",
      "2014/12/09  下午 06:30             7,644 CWB_M_467060_2006.txt\n",
      "2018/10/23  上午 08:32    <DIR>          ..\n",
      "2014/12/09  下午 06:30             7,644 CWB_M_467060_2002.txt\n",
      "2014/12/09  下午 06:30             7,644 CWB_M_467060_2008.txt\n",
      "2014/12/09  下午 06:30             7,644 CWB_M_467060_2003.txt\n",
      "2014/12/09  下午 06:30             7,644 CWB_M_467060_2004.txt\n",
      "2014/12/09  下午 06:30             7,644 CWB_M_467060_2001.txt\n",
      "2014/12/09  下午 06:30             7,643 CWB_M_467060_2009.txt\n",
      "              10 個檔案          84,631 位元組\n",
      "               2 個目錄  1,052,697,038,848 位元組可用\n"
     ]
    }
   ],
   "source": [
    "!dir cwb\\467060"
   ]
  },
  {
   "cell_type": "code",
   "execution_count": 3,
   "metadata": {},
   "outputs": [
    {
     "name": "stdout",
     "output_type": "stream",
     "text": [
      " 磁碟區 Z 中的磁碟是 Shared Folders\n",
      " 磁碟區序號:  0000-0064\n",
      "\n",
      " Z:\\win-2\\Lectures\\Statistics107A\\openpyxl\\cwb\\467080 的目錄\n",
      "\n",
      "2018/10/23  上午 08:32    <DIR>          .\n",
      "2014/12/09  下午 06:30             7,644 CWB_M_467080_2010.txt\n",
      "2018/10/23  上午 08:32    <DIR>          ..\n",
      "2014/12/09  下午 06:30             7,644 CWB_M_467080_2004.txt\n",
      "2014/12/09  下午 06:30             7,644 CWB_M_467080_2006.txt\n",
      "2014/12/09  下午 06:30             7,644 CWB_M_467080_2007.txt\n",
      "2014/12/09  下午 06:30             7,643 CWB_M_467080_2009.txt\n",
      "2014/12/09  下午 06:30             7,644 CWB_M_467080_2005.txt\n",
      "2014/12/09  下午 06:30             7,644 CWB_M_467080_2003.txt\n",
      "2014/12/09  下午 06:30             7,644 CWB_M_467080_2002.txt\n",
      "2014/12/09  下午 06:30             7,644 CWB_M_467080_2008.txt\n",
      "2014/12/09  下午 06:30             7,644 CWB_M_467080_2001.txt\n",
      "              10 個檔案          84,631 位元組\n",
      "               2 個目錄  1,052,697,038,848 位元組可用\n"
     ]
    }
   ],
   "source": [
    "!dir cwb\\467080"
   ]
  },
  {
   "cell_type": "code",
   "execution_count": 6,
   "metadata": {},
   "outputs": [
    {
     "name": "stdout",
     "output_type": "stream",
     "text": [
      "the working directory:  CWB\n",
      "sub-directory:  467060\n",
      "reading file:  CWB/467060\\CWB_M_467060_2007.txt\n",
      "reading file:  CWB/467060\\CWB_M_467060_2005.txt\n",
      "reading file:  CWB/467060\\CWB_M_467060_2010.txt\n",
      "reading file:  CWB/467060\\CWB_M_467060_2006.txt\n",
      "reading file:  CWB/467060\\CWB_M_467060_2002.txt\n",
      "reading file:  CWB/467060\\CWB_M_467060_2008.txt\n",
      "reading file:  CWB/467060\\CWB_M_467060_2003.txt\n",
      "reading file:  CWB/467060\\CWB_M_467060_2004.txt\n",
      "reading file:  CWB/467060\\CWB_M_467060_2001.txt\n",
      "reading file:  CWB/467060\\CWB_M_467060_2009.txt\n",
      "sub-directory:  467080\n",
      "reading file:  CWB/467080\\CWB_M_467080_2010.txt\n",
      "reading file:  CWB/467080\\CWB_M_467080_2004.txt\n",
      "reading file:  CWB/467080\\CWB_M_467080_2006.txt\n",
      "reading file:  CWB/467080\\CWB_M_467080_2007.txt\n",
      "reading file:  CWB/467080\\CWB_M_467080_2009.txt\n",
      "reading file:  CWB/467080\\CWB_M_467080_2005.txt\n",
      "reading file:  CWB/467080\\CWB_M_467080_2003.txt\n",
      "reading file:  CWB/467080\\CWB_M_467080_2002.txt\n",
      "reading file:  CWB/467080\\CWB_M_467080_2008.txt\n",
      "reading file:  CWB/467080\\CWB_M_467080_2001.txt\n"
     ]
    }
   ],
   "source": [
    "import glob\n",
    "import os\n",
    "from openpyxl import Workbook\n",
    "\n",
    "# read the data file\n",
    "def readCWBStation(fileName):\n",
    "    global wb\n",
    "    \n",
    "    print('reading file: ', fileName)\n",
    "    fp = open(aFile)\n",
    "    \n",
    "    # read the data one line at a time\n",
    "    for aLine in fp:\n",
    "        s = aLine.strip()\n",
    "        \n",
    "        # get specific fields from each line \n",
    "        id = s[0:6]\n",
    "        year = int(s[7:11])\n",
    "        month = int(s[11:13])\n",
    "        temperature = float(s[83:90])\n",
    "        rainfall = float(s[223:230])\n",
    "        \n",
    "        # put the data into a list and append it to the worksheet\n",
    "        row = [id, year, month, temperature, rainfall]\n",
    "\n",
    "        sheetName = 'M%02d' % month\n",
    "        ws = wb[sheetName]\n",
    "        ws.append(row)\n",
    "        \n",
    "    fp.close()\n",
    "        \n",
    "# create a workbook\n",
    "wb = Workbook()\n",
    "\n",
    "# create a worksheet for each month\n",
    "for i in range(1,13):\n",
    "    # construct the worksheet name\n",
    "    wsName = 'M%02d' % i\n",
    "    \n",
    "    # create the worksheet and give it a name\n",
    "    ws = wb.create_sheet()\n",
    "    ws.title = wsName\n",
    "    \n",
    "    # create the first row of the worksheet, which has the field names\n",
    "    t = ['Station_ID', 'Year', 'Month', 'Mean_T', 'Mean_R']\n",
    "    ws.append(t)\n",
    "    \n",
    "# set the working directory\n",
    "workDir = 'CWB'\n",
    "print('the working directory: ', workDir)\n",
    "\n",
    "# get the list of directory names under the working directory\n",
    "dirList = os.listdir(workDir)\n",
    "\n",
    "# process each sub-directory under the working directory\n",
    "for dirName in dirList:\n",
    "    # get all the data files under the sub-directory\n",
    "    print('sub-directory: ', dirName)\n",
    "    fileList = glob.glob(workDir + '/' + dirName + '/CWB*.txt')\n",
    "    \n",
    "    # get data from each file\n",
    "    for aFile in fileList:\n",
    "        readCWBStation(aFile)\n",
    "\n",
    "# Save the file\n",
    "result = 'CWB2.xlsx'\n",
    "wb.save(result)"
   ]
  },
  {
   "cell_type": "code",
   "execution_count": null,
   "metadata": {
    "collapsed": true
   },
   "outputs": [],
   "source": []
  }
 ],
 "metadata": {
  "kernelspec": {
   "display_name": "Python 3",
   "language": "python",
   "name": "python3"
  },
  "language_info": {
   "codemirror_mode": {
    "name": "ipython",
    "version": 3
   },
   "file_extension": ".py",
   "mimetype": "text/x-python",
   "name": "python",
   "nbconvert_exporter": "python",
   "pygments_lexer": "ipython3",
   "version": "3.6.5"
  }
 },
 "nbformat": 4,
 "nbformat_minor": 2
}
