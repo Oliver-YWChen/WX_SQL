{
 "cells": [
  {
   "cell_type": "code",
   "execution_count": 14,
   "metadata": {},
   "outputs": [
    {
     "name": "stdout",
     "output_type": "stream",
     "text": [
      "['屏東縣', '嘉義縣', '台中市', '高雄市', '新北市', '新竹市', '南投縣', '雲林縣', '桃園市', '彰化縣', '台南市', '宜蘭縣', '台北市', '嘉義市', '苗栗縣', '基隆市', '花蓮縣', '台東縣', '澎湖縣', '新竹縣', '金門縣', '連江縣']\n",
      "<class 'list'>\n",
      "SELECT DISTINCT cname FROM tables\n",
      "<class 'str'>\n",
      "[('屏東縣',), ('嘉義縣',), ('台中市',), ('高雄市',), ('新北市',), ('新竹市',), ('南投縣',), ('雲林縣',), ('桃園市',), ('彰化縣',), ('台南市',), ('宜蘭縣',), ('台北市',), ('嘉義市',), ('苗栗縣',), ('基隆市',), ('花蓮縣',), ('台東縣',), ('澎湖縣',), ('新竹縣',), ('金門縣',), ('連江縣',)]\n"
     ]
    }
   ],
   "source": [
    "import sqlite3\n",
    " \n",
    "conn = sqlite3.connect(\"database.db\")\n",
    "cursor = conn.cursor()\n",
    "sql = \"SELECT DISTINCT cname FROM tables\"\n",
    "cursor.execute(sql)\n",
    "L = cursor.fetchall()\n",
    "\n",
    "L1 = []\n",
    "n = 0\n",
    "for i in range(len(L)):\n",
    "    t = L[n]\n",
    "    L1.append(t[0])\n",
    "    n = n + 1\n",
    "    \n",
    "print(L1)\n",
    "\n",
    "\n",
    "\n",
    "print(type(L))\n",
    "print(sql)\n",
    "print(type(sql))\n",
    "print(L)"
   ]
  },
  {
   "cell_type": "code",
   "execution_count": 32,
   "metadata": {},
   "outputs": [
    {
     "name": "stdout",
     "output_type": "stream",
     "text": [
      "[('霧峰區',), ('烏日區',), ('新社區',), ('北區',), ('神岡區',), ('南屯區',), ('外埔區',), ('石岡區',), ('梧棲區',), ('大雅區',), ('北屯區',), ('豐原區',), ('沙鹿區',), ('太平區',), ('后里區',), ('東區',), ('西屯區',), ('大里區',), ('大肚區',), ('東勢區',), ('西區',), ('南區',), ('龍井區',), ('清水區',), ('大甲區',), ('大安區',), ('和平區',), ('潭子區',), ('中區',)]\n"
     ]
    }
   ],
   "source": [
    "conn = sqlite3.connect(\"database.db\")\n",
    "cursor = conn.cursor()\n",
    "cursor.execute(\"SELECT DISTINCT tname FROM tables WHERE cname='%s'\" %'台中市')\n",
    "L = cursor.fetchall()\n",
    "print(L)"
   ]
  },
  {
   "cell_type": "code",
   "execution_count": null,
   "metadata": {},
   "outputs": [],
   "source": []
  },
  {
   "cell_type": "code",
   "execution_count": null,
   "metadata": {},
   "outputs": [],
   "source": []
  }
 ],
 "metadata": {
  "kernelspec": {
   "display_name": "Python 3",
   "language": "python",
   "name": "python3"
  },
  "language_info": {
   "codemirror_mode": {
    "name": "ipython",
    "version": 3
   },
   "file_extension": ".py",
   "mimetype": "text/x-python",
   "name": "python",
   "nbconvert_exporter": "python",
   "pygments_lexer": "ipython3",
   "version": "3.7.0"
  }
 },
 "nbformat": 4,
 "nbformat_minor": 2
}
