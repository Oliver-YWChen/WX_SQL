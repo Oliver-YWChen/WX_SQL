{
 "cells": [
  {
   "cell_type": "code",
   "execution_count": 2,
   "metadata": {},
   "outputs": [],
   "source": [
    "import sqlite3\n",
    "import openpyxl\n",
    "from openpyxl import Workbook\n",
    " \n",
    "conn = sqlite3.connect(\"郵遞區號.db\")\n",
    " \n",
    "cursor = conn.cursor()\n",
    " \n",
    "cursor.execute(\"\"\"CREATE TABLE albums\n",
    "                  (Zip5, City, Area, \n",
    "                   Road, Scope) \n",
    "               \"\"\")\n",
    "\n",
    "book = openpyxl.load_workbook('郵遞區號.xlsx')\n",
    "sheet = book.active\n",
    "\n",
    "T = []\n",
    "\n",
    "for row in sheet.iter_rows(min_row = 2, min_col = 1, max_row = 60928, max_col = 5):\n",
    "    \n",
    "    t = []\n",
    "    \n",
    "    for cell in row:\n",
    "        c = cell.value\n",
    "        t.append(c)\n",
    "\n",
    "    T.append(tuple(t))\n",
    "\n",
    "albums_entry = T\n",
    "cursor.executemany(\"INSERT INTO albums VALUES (?,?,?,?,?)\", albums_entry)\n",
    "conn.commit()\n",
    "\n",
    "conn.close()"
   ]
  },
  {
   "cell_type": "code",
   "execution_count": null,
   "metadata": {},
   "outputs": [],
   "source": []
  }
 ],
 "metadata": {
  "kernelspec": {
   "display_name": "Python 3",
   "language": "python",
   "name": "python3"
  },
  "language_info": {
   "codemirror_mode": {
    "name": "ipython",
    "version": 3
   },
   "file_extension": ".py",
   "mimetype": "text/x-python",
   "name": "python",
   "nbconvert_exporter": "python",
   "pygments_lexer": "ipython3",
   "version": "3.7.0"
  }
 },
 "nbformat": 4,
 "nbformat_minor": 2
}
