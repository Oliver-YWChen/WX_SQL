{
 "cells": [
  {
   "cell_type": "code",
   "execution_count": 1,
   "metadata": {},
   "outputs": [
    {
     "name": "stdout",
     "output_type": "stream",
     "text": [
      "[('The Good Life', 'Trip Lee', '4/10/2012', 'Reach Records', 'CD')]\n",
      "\n",
      "Here's a listing of all the records in the table:\n",
      "\n",
      "(1, 'Glow', 'Andy Hunter', '7/24/2012', 'Xplore Records', 'MP3')\n",
      "(2, 'Exodus', 'Andy Hunter', '7/9/2002', 'Sparrow Records', 'CD')\n",
      "(3, 'Until We Have Faces', 'Red', '2/1/2011', 'Essential Records', 'CD')\n",
      "(4, 'The End is Where We Begin', 'Thousand Foot Krutch', '4/17/2012', 'TFKmusic', 'CD')\n",
      "(5, 'The Good Life', 'Trip Lee', '4/10/2012', 'Reach Records', 'CD')\n",
      "\n",
      "Results from a LIKE query:\n",
      "\n",
      "[('Glow', 'Andy Hunter', '7/24/2012', 'Xplore Records', 'MP3'), ('Exodus', 'Andy Hunter', '7/9/2002', 'Sparrow Records', 'CD'), ('Until We Have Faces', 'Red', '2/1/2011', 'Essential Records', 'CD'), ('The End is Where We Begin', 'Thousand Foot Krutch', '4/17/2012', 'TFKmusic', 'CD')]\n"
     ]
    }
   ],
   "source": [
    "# http://www.blog.pythonlibrary.org/2012/07/18/python-a-simple-step-by-step-sqlite-tutorial/\n",
    "\n",
    "import sqlite3\n",
    " \n",
    "conn = sqlite3.connect(\"mydatabase.db\")\n",
    "#conn.row_factory = sqlite3.Row\n",
    "cursor = conn.cursor()\n",
    " \n",
    "sql = \"SELECT * FROM albums WHERE artist=?\"\n",
    "#sql = \"SELECT title, artist FROM albums WHERE artist=?\"\n",
    "cursor.execute(sql, [(\"Trip Lee\")])\n",
    "print(cursor.fetchall())  # or use fetchone()\n",
    " \n",
    "print(\"\\nHere's a listing of all the records in the table:\\n\")\n",
    "for row in cursor.execute(\"SELECT rowid, * FROM albums ORDER BY artist\"):\n",
    "    print(row)\n",
    " \n",
    "print(\"\\nResults from a LIKE query:\\n\")\n",
    "sql = \"\"\"\n",
    "SELECT * FROM albums \n",
    "WHERE artist LIKE '%D%'\"\"\"\n",
    "cursor.execute(sql)\n",
    "print(cursor.fetchall())"
   ]
  },
  {
   "cell_type": "code",
   "execution_count": null,
   "metadata": {
    "collapsed": true
   },
   "outputs": [],
   "source": []
  }
 ],
 "metadata": {
  "kernelspec": {
   "display_name": "Python 3",
   "language": "python",
   "name": "python3"
  },
  "language_info": {
   "codemirror_mode": {
    "name": "ipython",
    "version": 3
   },
   "file_extension": ".py",
   "mimetype": "text/x-python",
   "name": "python",
   "nbconvert_exporter": "python",
   "pygments_lexer": "ipython3",
   "version": "3.7.0"
  }
 },
 "nbformat": 4,
 "nbformat_minor": 1
}
