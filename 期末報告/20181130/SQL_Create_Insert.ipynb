{
 "cells": [
  {
   "cell_type": "code",
   "execution_count": 1,
   "metadata": {},
   "outputs": [
    {
     "ename": "OperationalError",
     "evalue": "table albums already exists",
     "output_type": "error",
     "traceback": [
      "\u001b[1;31m---------------------------------------------------------------------------\u001b[0m",
      "\u001b[1;31mOperationalError\u001b[0m                          Traceback (most recent call last)",
      "\u001b[1;32m<ipython-input-1-a6bcbbd5c2eb>\u001b[0m in \u001b[0;36m<module>\u001b[1;34m()\u001b[0m\n\u001b[0;32m     10\u001b[0m                   (title text, artist text, release_date text, \n\u001b[0;32m     11\u001b[0m                    publisher text, media_type text) \n\u001b[1;32m---> 12\u001b[1;33m                \"\"\")\n\u001b[0m\u001b[0;32m     13\u001b[0m \u001b[1;33m\u001b[0m\u001b[0m\n\u001b[0;32m     14\u001b[0m \u001b[1;31m# insert some data\u001b[0m\u001b[1;33m\u001b[0m\u001b[1;33m\u001b[0m\u001b[0m\n",
      "\u001b[1;31mOperationalError\u001b[0m: table albums already exists"
     ]
    }
   ],
   "source": [
    "# http://www.blog.pythonlibrary.org/2012/07/18/python-a-simple-step-by-step-sqlite-tutorial/\n",
    "import sqlite3\n",
    " \n",
    "conn = sqlite3.connect(\"mydatabase.db\") # or use :memory: to put it in RAM\n",
    " \n",
    "cursor = conn.cursor()\n",
    " \n",
    "# create a table\n",
    "cursor.execute(\"\"\"CREATE TABLE albums\n",
    "                  (title text, artist text, release_date text, \n",
    "                   publisher text, media_type text) \n",
    "               \"\"\")\n",
    "\n",
    "# insert some data\n",
    "cursor.execute(\"INSERT INTO albums VALUES ('Glow', 'Andy Hunter', '7/24/2012', 'Xplore Records', 'MP3')\")\n",
    " \n",
    "# save data to database\n",
    "conn.commit()\n",
    " \n",
    "# insert multiple records using the more secure \"?\" method\n",
    "albums_entry = [('Exodus', 'Andy Hunter', '7/9/2002', 'Sparrow Records', 'CD'),\n",
    "          ('Until We Have Faces', 'Red', '2/1/2011', 'Essential Records', 'CD'),\n",
    "          ('The End is Where We Begin', 'Thousand Foot Krutch', '4/17/2012', 'TFKmusic', 'CD'),\n",
    "          ('The Good Life', 'Trip Lee', '4/10/2012', 'Reach Records', 'CD')]\n",
    "cursor.executemany(\"INSERT INTO albums VALUES (?,?,?,?,?)\", albums_entry)\n",
    "conn.commit()\n",
    "\n",
    "conn.close()"
   ]
  },
  {
   "cell_type": "code",
   "execution_count": null,
   "metadata": {
    "collapsed": true
   },
   "outputs": [],
   "source": []
  }
 ],
 "metadata": {
  "kernelspec": {
   "display_name": "Python 3",
   "language": "python",
   "name": "python3"
  },
  "language_info": {
   "codemirror_mode": {
    "name": "ipython",
    "version": 3
   },
   "file_extension": ".py",
   "mimetype": "text/x-python",
   "name": "python",
   "nbconvert_exporter": "python",
   "pygments_lexer": "ipython3",
   "version": "3.7.0"
  }
 },
 "nbformat": 4,
 "nbformat_minor": 1
}
