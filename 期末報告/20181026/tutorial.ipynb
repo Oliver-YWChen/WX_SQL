{
 "cells": [
  {
   "cell_type": "markdown",
   "metadata": {},
   "source": [
    "# Openpyxl tutorial\n",
    "In this tutorial we show how to work with Excel files in Python using openpyxl library.\n",
    "\n",
    "參考網址：http://zetcode.com/articles/openpyxl/\n",
    "\n",
    "## Creating a new file\n",
    "In the first example, we will create a new xlsx file with openpyxl."
   ]
  },
  {
   "cell_type": "code",
   "execution_count": 1,
   "metadata": {
    "collapsed": true
   },
   "outputs": [],
   "source": [
    "from openpyxl import Workbook\n",
    "import time\n",
    "\n",
    "book = Workbook()            #建立一個新的工作簿\n",
    "sheet = book.active          #作用中的工作表\n",
    "\n",
    "sheet['A1'] = 56             #填入 A1-A3\n",
    "sheet['A2'] = 43\n",
    "\n",
    "now = time.strftime(\"%x\")\n",
    "sheet['A3'] = now\n",
    "\n",
    "book.save(\"sample.xlsx\")     #存檔"
   ]
  },
  {
   "cell_type": "markdown",
   "metadata": {},
   "source": [
    "上述的程式執行之後，資料夾中確實有產生一個新的 Excel 檔 \"sample.xlsx\"\n",
    "\n",
    "開啟 Excel 可以看到 A1-A3 已經填入資料\n",
    "\n",
    "<img src=\"sample1.png\" align=\"left\">\n",
    "<img src=\"sample2.png\" align=\"left\">"
   ]
  },
  {
   "cell_type": "markdown",
   "metadata": {},
   "source": [
    "## Writing to a cell\n",
    "There are two basic ways to write to a cell: using a key of a worksheet such as A1 or D3, or using a row and column notation with the cell() method."
   ]
  },
  {
   "cell_type": "code",
   "execution_count": 2,
   "metadata": {
    "collapsed": true
   },
   "outputs": [],
   "source": [
    "from openpyxl import Workbook\n",
    "\n",
    "book = Workbook()\n",
    "sheet = book.active\n",
    "\n",
    "sheet['A1'] = 1\n",
    "sheet.cell(row=2, column=3).value = 2     #第2列，第3行\n",
    "sheet.cell(row=3, column=2).value = 3     #第3列，第2行\n",
    "\n",
    "book.save('write2cell.xlsx')"
   ]
  },
  {
   "cell_type": "markdown",
   "metadata": {},
   "source": [
    "上述的程式執行之後，資料夾中確實有產生一個新的 Excel 檔 \"write2cell.xlsx\"\n",
    "\n",
    "開啟 Excel 可以看到 A1, C2 和 B3 已經填入資料\n",
    "\n",
    "<img src=\"sample3.png\" align=\"left\">"
   ]
  },
  {
   "cell_type": "markdown",
   "metadata": {
    "collapsed": true
   },
   "source": [
    "## Appending values\n",
    "With the append() method, we can append a group of values at the bottom of the current sheet."
   ]
  },
  {
   "cell_type": "code",
   "execution_count": 1,
   "metadata": {},
   "outputs": [],
   "source": [
    "from openpyxl import Workbook\n",
    "\n",
    "book = Workbook()\n",
    "sheet = book.active\n",
    "\n",
    "rows = (\n",
    "    (88, 46, 57),\n",
    "    (89, 38, 12),\n",
    "    (23, 59, 78),\n",
    "    (56, 21, 98),\n",
    "    (24, 18, 43),\n",
    "    (34, 15, 67)\n",
    ")\n",
    "\n",
    "for row in rows:\n",
    "    sheet.append(row)     #以 append() 方法將資料 (tuple 的形式) 加入工作表中\n",
    "\n",
    "book.save('appending.xlsx')"
   ]
  },
  {
   "cell_type": "markdown",
   "metadata": {},
   "source": [
    "上述的程式執行之後，資料夾中確實有產生一個新的 Excel 檔 \"appending.xlsx\"\n",
    "\n",
    "此程式範例使用 append() 方法將一列資料加入工作表中\n",
    "\n",
    "`\n",
    "for row in rows:\n",
    "    sheet.append(row)    #以 append() 方法將資料 (tuple 的形式) 加入工作表中\n",
    "`\n",
    "\n",
    "開啟 Excel 可以看到每一列的資料都已經填入工作表中\n",
    "\n",
    "<img src=\"sample4.png\" align=\"left\">"
   ]
  },
  {
   "cell_type": "markdown",
   "metadata": {},
   "source": [
    "## Reading a cell\n",
    "In the following example, we read the previously written data from the sample.xlsx file."
   ]
  },
  {
   "cell_type": "code",
   "execution_count": 4,
   "metadata": {},
   "outputs": [
    {
     "name": "stdout",
     "output_type": "stream",
     "text": [
      "56\n",
      "43\n",
      "10/17/18\n"
     ]
    }
   ],
   "source": [
    "import openpyxl\n",
    "\n",
    "book = openpyxl.load_workbook('sample.xlsx')\n",
    "\n",
    "sheet = book.active\n",
    "\n",
    "a1 = sheet['A1']\n",
    "a2 = sheet['A2']\n",
    "a3 = sheet.cell(row=3, column=1)    #讀取 A3 儲存格的資料 (第3列第1行)\n",
    "\n",
    "print(a1.value)\n",
    "print(a2.value) \n",
    "print(a3.value)"
   ]
  },
  {
   "cell_type": "markdown",
   "metadata": {},
   "source": [
    "此程式以 A1, A2 讀取儲存格的資料，以及用 cell() 方法讀取 A3 儲存格的資料 (第3列第1行)\n",
    "\n",
    "`\n",
    "a1 = sheet['A1']\n",
    "a2 = sheet['A2']\n",
    "a3 = sheet.cell(row=3, column=1)    #讀取 A3 儲存格的資料 (第3列第1行)\n",
    "`\n"
   ]
  },
  {
   "cell_type": "markdown",
   "metadata": {},
   "source": [
    "## Reading multiple cells\n",
    "We have the following data sheet:"
   ]
  },
  {
   "cell_type": "code",
   "execution_count": 5,
   "metadata": {},
   "outputs": [
    {
     "name": "stdout",
     "output_type": "stream",
     "text": [
      "2018/07/01 1.1 1.4\n",
      "2018/07/02 2.3 2.1\n",
      "2018/07/03 1.7 1.3\n",
      "2018/07/04 1.4 1.5\n",
      "2018/07/05 1.9 1.4\n",
      "2018/07/06 1.3 1.3\n"
     ]
    }
   ],
   "source": [
    "import openpyxl\n",
    "\n",
    "book = openpyxl.load_workbook('AirQuality201807.xlsx')\n",
    "\n",
    "sheet = book.active         #作用中的工作表，開啟檔案時預設為第 1 個工作表\n",
    "\n",
    "cells = sheet['A3': 'C8']   #讀取 A3:C8 這個範圍的儲存格資料\n",
    "\n",
    "for c1, c2, c3 in cells:\n",
    "    print(\"{0} {1} {2}\".format(c1.value, c2.value, c3.value))"
   ]
  },
  {
   "cell_type": "markdown",
   "metadata": {},
   "source": [
    "一個工作簿中可以有多個工作表，開啟檔案時第 1 個工作表預設為作用中的工作表\n",
    "\n",
    "`\n",
    "sheet = book.active         #作用中的工作表，開啟檔案時預設為第 1 個工作表\n",
    "`\n",
    "\n",
    "此程式讀取 A3:C8 這個範圍的儲存格\n",
    "\n",
    "`\n",
    "cells = sheet['A3': 'C8']   #讀取 A3:C8 這個範圍的儲存格資料\n",
    "`\n",
    "\n",
    "然後用 for 迴圈讀取每一列的儲存格中的資料\n",
    "\n",
    "`\n",
    "for c1, c2, c3 in cells:\n",
    "    print(\"{0} {1} {2}\".format(c1.value, c2.value, c3.value))\n",
    "`\n",
    "\n",
    "利用儲存格的屬性 value 即可取得該儲存格的值\n",
    "\n",
    "輸出的時候可以利用 string 的 format() 方法設定輸出的格式\n",
    "\n",
    "format() 的用法請參考：https://www.digitalocean.com/community/tutorials/how-to-use-string-formatters-in-python-3\n",
    "\n",
    "\n",
    "<img src=\"sample5.png\" align=\"left\">"
   ]
  },
  {
   "cell_type": "markdown",
   "metadata": {},
   "source": [
    "## Iterating by rows\n",
    "The iter_rows() method return cells from the worksheet as rows."
   ]
  },
  {
   "cell_type": "code",
   "execution_count": 6,
   "metadata": {},
   "outputs": [
    {
     "name": "stdout",
     "output_type": "stream",
     "text": [
      "88 46 57 \n",
      "89 38 12 \n",
      "23 59 78 \n",
      "56 21 98 \n",
      "24 18 43 \n",
      "34 15 67 \n"
     ]
    }
   ],
   "source": [
    "from openpyxl import Workbook\n",
    "\n",
    "book = Workbook()\n",
    "sheet = book.active\n",
    "\n",
    "rows = (\n",
    "    (88, 46, 57),\n",
    "    (89, 38, 12),\n",
    "    (23, 59, 78),\n",
    "    (56, 21, 98),\n",
    "    (24, 18, 43),\n",
    "    (34, 15, 67)\n",
    ")\n",
    "\n",
    "for row in rows:\n",
    "    sheet.append(row)\n",
    "    \n",
    "for row in sheet.iter_rows(min_row=1, min_col=1, max_row=6, max_col=3):\n",
    "    for cell in row:\n",
    "        print(cell.value, end=\" \")\n",
    "    print()    \n",
    "\n",
    "book.save('iterbyrows.xlsx')"
   ]
  },
  {
   "cell_type": "markdown",
   "metadata": {},
   "source": [
    "此程式以迭代的方式讀取每一列的資料\n",
    "\n",
    "`\n",
    "for row in sheet.iter_rows(min_row=1, min_col=1, max_row=6, max_col=3):\n",
    "    for cell in row:\n",
    "        print(cell.value, end=\" \")\n",
    "    print()  \n",
    "`\n",
    "<img src=\"sample6.png\" align=\"left\">"
   ]
  },
  {
   "cell_type": "code",
   "execution_count": 7,
   "metadata": {},
   "outputs": [
    {
     "name": "stdout",
     "output_type": "stream",
     "text": [
      "2018/07/01 1.1 1.4 1.4 2.1 \n",
      "2018/07/02 2.3 2.1 1.7 1.7 \n",
      "2018/07/03 1.7 1.3 1.2 1.1 \n",
      "2018/07/04 1.4 1.5 1.5 1.6 \n",
      "2018/07/05 1.9 1.4 1.2 1.2 \n",
      "2018/07/06 1.3 1.3 1.2 1.2 \n"
     ]
    }
   ],
   "source": [
    "import openpyxl\n",
    "\n",
    "book = openpyxl.load_workbook('AirQuality201807.xlsx')\n",
    "\n",
    "sheet = book.active         #作用中的工作表，開啟檔案時預設為第 1 個工作表\n",
    "\n",
    "for row in sheet.iter_rows(min_row=3, min_col=1, max_row=8, max_col=5):\n",
    "    for cell in row:\n",
    "        print(cell.value, end=\" \")\n",
    "    print()    \n",
    "\n"
   ]
  },
  {
   "cell_type": "markdown",
   "metadata": {},
   "source": [
    "此程式以迭代的方式讀取每一列的資料\n",
    "\n",
    "`\n",
    "for row in sheet.iter_rows(min_row=3, min_col=1, max_row=8, max_col=5):\n",
    "    for cell in row:\n",
    "        print(cell.value, end=\" \")\n",
    "    print()  \n",
    "`\n",
    "\n",
    "可以由 min_row, min_col, max_row, max_col 設定讀取的範圍\n",
    "\n",
    "<img src=\"sample5.png\" align=\"left\">"
   ]
  },
  {
   "cell_type": "markdown",
   "metadata": {},
   "source": [
    "## Iterating by columns\n",
    "The iter_cols() method return cells from the worksheet as columns."
   ]
  },
  {
   "cell_type": "code",
   "execution_count": 8,
   "metadata": {},
   "outputs": [
    {
     "name": "stdout",
     "output_type": "stream",
     "text": [
      "88 89 23 56 24 34 \n",
      "46 38 59 21 18 15 \n",
      "57 12 78 98 43 67 \n"
     ]
    }
   ],
   "source": [
    "from openpyxl import Workbook\n",
    "\n",
    "book = Workbook()\n",
    "sheet = book.active\n",
    "\n",
    "rows = (\n",
    "    (88, 46, 57),\n",
    "    (89, 38, 12),\n",
    "    (23, 59, 78),\n",
    "    (56, 21, 98),\n",
    "    (24, 18, 43),\n",
    "    (34, 15, 67)\n",
    ")\n",
    "\n",
    "for row in rows:\n",
    "    sheet.append(row)\n",
    "    \n",
    "for row in sheet.iter_cols(min_row=1, min_col=1, max_row=6, max_col=3):\n",
    "    for cell in row:\n",
    "        print(cell.value, end=\" \")\n",
    "    print()    \n",
    "\n",
    "book.save('iterbycols.xlsx')"
   ]
  },
  {
   "cell_type": "markdown",
   "metadata": {},
   "source": [
    "此程式以迭代的方式讀取每一行的資料\n",
    "\n",
    "`\n",
    "for row in sheet.iter_cols(min_row=1, min_col=1, max_row=6, max_col=3):\n",
    "    for cell in row:\n",
    "        print(cell.value, end=\" \")\n",
    "    print()   \n",
    "`"
   ]
  },
  {
   "cell_type": "code",
   "execution_count": 9,
   "metadata": {},
   "outputs": [
    {
     "name": "stdout",
     "output_type": "stream",
     "text": [
      "84 66 75 62 44 75 89 95 85 51 \n",
      "49 54 75 76 88 61 62 77 73 74 \n",
      "100 54 87 94 99 45 80 68 47 51 \n",
      "55 41 88 77 57 50 61 79 96 79 \n",
      "52 95 64 54 49 66 69 61 99 97 \n",
      "42 65 71 86 52 64 91 45 65 63 \n",
      "96 92 62 61 69 47 71 96 40 60 \n",
      "71 83 88 56 67 55 68 47 40 61 \n",
      "97 100 90 84 72 96 58 59 66 89 \n",
      "97 40 66 62 99 67 56 40 93 74 \n",
      "97 86 85 77 89 57 70 90 73 43 \n",
      "89 89 53 63 56 64 64 70 96 63 \n",
      "57 92 44 51 56 49 40 70 49 82 \n",
      "53 95 87 94 87 60 83 69 86 42 \n",
      "75 63 58 96 78 43 88 64 89 64 \n",
      "65 70 62 64 46 93 88 97 64 79 \n",
      "96 51 82 70 61 93 61 86 73 59 \n",
      "45 86 85 98 88 53 67 52 44 69 \n",
      "87 55 42 82 99 51 58 68 73 69 \n",
      "61 84 48 74 73 49 43 67 90 71 \n",
      "46 61 46 65 95 53 77 97 44 95 \n",
      "55 97 88 51 51 91 79 44 89 60 \n",
      "83 43 68 63 93 92 92 49 94 73 \n",
      "67 45 86 74 97 62 88 47 56 66 \n",
      "56 80 46 77 43 87 79 62 67 65 \n"
     ]
    }
   ],
   "source": [
    "# creating a file with 25 rows of numbers in 10 columns \n",
    "\n",
    "from openpyxl import Workbook\n",
    "import random\n",
    "\n",
    "rows = []\n",
    "num_rows = 25\n",
    "num_cols = 10\n",
    "\n",
    "for r in range(num_rows):\n",
    "    t = []\n",
    "    for c in range(num_cols):\n",
    "        n = random.randint(40,100)\n",
    "        print(n, end=\" \")\n",
    "        \n",
    "        t.append(n)\n",
    "        \n",
    "    print()\n",
    "    rows.append(t)\n",
    "    \n",
    "\n",
    "book = Workbook()\n",
    "sheet = book.active\n",
    "\n",
    "for row in rows:\n",
    "    sheet.append(row)\n",
    "    \n",
    "book.save('numbers.xlsx')"
   ]
  },
  {
   "cell_type": "markdown",
   "metadata": {},
   "source": [
    "此程式產生 25 row x 10 column 的隨機亂數，每一個亂數的值介於 40 至 100 \n",
    "\n",
    "並將所有亂數寫入一個名為 numbres.xlsx 的 Excel 檔\n",
    "\n",
    "<img src=\"sample7.png\" align=\"left\">"
   ]
  },
  {
   "cell_type": "markdown",
   "metadata": {},
   "source": [
    "## Statistics\n",
    "For the next example, we need to create a xlsx file containing numbers. For instance, we have created 25 rows of numbers in 10 columns with the RANDBETWEEN() function."
   ]
  },
  {
   "cell_type": "code",
   "execution_count": 10,
   "metadata": {},
   "outputs": [
    {
     "name": "stdout",
     "output_type": "stream",
     "text": [
      "Number of values: 250\n",
      "Sum of values: 17521\n",
      "Minimum value: 40\n",
      "Maximum value: 100\n",
      "Mean: 70.084\n",
      "Median: 68.0\n",
      "Standard deviation: 17.368350017469055\n",
      "Variance: 301.6595823293173\n"
     ]
    }
   ],
   "source": [
    "import openpyxl\n",
    "import statistics as stats\n",
    "\n",
    "book = openpyxl.load_workbook('numbers.xlsx', data_only=True)\n",
    "\n",
    "sheet = book.active\n",
    "\n",
    "rows = sheet.rows\n",
    "\n",
    "values = []\n",
    "\n",
    "for row in rows:\n",
    "    for cell in row:\n",
    "        values.append(cell.value)\n",
    "\n",
    "print(\"Number of values: {0}\".format(len(values)))\n",
    "print(\"Sum of values: {0}\".format(sum(values)))\n",
    "print(\"Minimum value: {0}\".format(min(values)))\n",
    "print(\"Maximum value: {0}\".format(max(values)))\n",
    "print(\"Mean: {0}\".format(stats.mean(values)))\n",
    "print(\"Median: {0}\".format(stats.median(values)))\n",
    "print(\"Standard deviation: {0}\".format(stats.stdev(values)))\n",
    "print(\"Variance: {0}\".format(stats.variance(values)))"
   ]
  },
  {
   "cell_type": "markdown",
   "metadata": {},
   "source": [
    "此程式利用 statistics 模組計算統計值\n",
    "\n",
    "開啟 Excel 檔時，指明 data_only 表示讀取儲存格的值，而非公式\n",
    "\n",
    "`\n",
    "book = openpyxl.load_workbook('numbers.xlsx', data_only=True)\n",
    "`\n",
    "\n",
    "利用工作表的 rows 屬性可以取得所有列資料\n",
    "\n",
    "rows = sheet.rows \n",
    "\n",
    "透過兩層 for 迴圈，就可以取得每一列、每一行的資料\n",
    "\n",
    "`\n",
    "for row in rows:\n",
    "    for cell in row:\n",
    "        values.append(cell.value)        \n",
    "`\n",
    "\n",
    "statistics 模組中的 mean(), median(), stdev(), variance() 分別可以計算：平均數、中位數、標準差、變異數。"
   ]
  },
  {
   "cell_type": "markdown",
   "metadata": {},
   "source": [
    "## Dimensions\n",
    "To get those cells that actually contain data, we can use dimensions."
   ]
  },
  {
   "cell_type": "code",
   "execution_count": 11,
   "metadata": {},
   "outputs": [
    {
     "name": "stdout",
     "output_type": "stream",
     "text": [
      "A3:B9\n",
      "Minimum row: 3\n",
      "Maximum row: 9\n",
      "Minimum column: 1\n",
      "Maximum column: 2\n",
      "39 19\n",
      "88 46\n",
      "89 38\n",
      "23 59\n",
      "56 21\n",
      "24 18\n",
      "34 15\n"
     ]
    }
   ],
   "source": [
    "from openpyxl import Workbook\n",
    "\n",
    "book = Workbook()\n",
    "sheet = book.active\n",
    "\n",
    "sheet['A3'] = 39\n",
    "sheet['B3'] = 19\n",
    "\n",
    "rows = [\n",
    "    (88, 46),\n",
    "    (89, 38),\n",
    "    (23, 59),\n",
    "    (56, 21),\n",
    "    (24, 18),\n",
    "    (34, 15)\n",
    "]\n",
    "\n",
    "for row in rows:\n",
    "    sheet.append(row)\n",
    "\n",
    "print(sheet.dimensions)\n",
    "print(\"Minimum row: {0}\".format(sheet.min_row))\n",
    "print(\"Maximum row: {0}\".format(sheet.max_row))\n",
    "print(\"Minimum column: {0}\".format(sheet.min_column))\n",
    "print(\"Maximum column: {0}\".format(sheet.max_column))\n",
    "\n",
    "for c1, c2 in sheet[sheet.dimensions]:\n",
    "    print(c1.value, c2.value)\n",
    "\n",
    "book.save('dimensions.xlsx')"
   ]
  },
  {
   "cell_type": "markdown",
   "metadata": {},
   "source": [
    "利用工作表的 dimensions 屬性可以得知真正有資料的儲存格\n",
    "\n",
    "print(sheet.dimensions)\n",
    "\n",
    "min_row, max_row 為具有資料的最小和最大列數\n",
    "\n",
    "min_column, max_column 為具有資料的最小和最大行數\n",
    "\n",
    "<img src=\"sample8.png\" align=\"left\">"
   ]
  },
  {
   "cell_type": "markdown",
   "metadata": {},
   "source": [
    "## Sheets\n",
    "Each workbook can have multiple sheets."
   ]
  },
  {
   "cell_type": "code",
   "execution_count": 12,
   "metadata": {
    "scrolled": true
   },
   "outputs": [
    {
     "name": "stdout",
     "output_type": "stream",
     "text": [
      "['201807,古亭,SO2', '201807,古亭,CO', '201807,古亭,O3', '201807,古亭,PM10', '201807,古亭,NOx', '201807,古亭,NO', '201807,古亭,NO2', '201807,古亭,THC', '201807,古亭,NMHC', '201807,古亭,WIND_SPEED', '201807,古亭,WIND_DIREC', '201807,古亭,AMB_TEMP', '201807,古亭,RAINFALL', '201807,古亭,CH4', '201807,古亭,RH', '201807,古亭,WS_HR', '201807,古亭,WD_HR']\n",
      "<class 'openpyxl.worksheet.worksheet.Worksheet'>\n",
      "active sheet:  201807,古亭,SO2\n",
      "201807,古亭,SO2\n",
      "201807,古亭,CO\n",
      "201807,古亭,O3\n",
      "201807,古亭,PM10\n",
      "201807,古亭,NOx\n",
      "201807,古亭,NO\n",
      "201807,古亭,NO2\n",
      "201807,古亭,THC\n",
      "201807,古亭,NMHC\n",
      "201807,古亭,WIND_SPEED\n",
      "201807,古亭,WIND_DIREC\n",
      "201807,古亭,AMB_TEMP\n",
      "201807,古亭,RAINFALL\n",
      "201807,古亭,CH4\n",
      "201807,古亭,RH\n",
      "201807,古亭,WS_HR\n",
      "201807,古亭,WD_HR\n",
      "O3 (臭氧) 工作表： 201807,古亭,O3\n"
     ]
    }
   ],
   "source": [
    "import openpyxl\n",
    "\n",
    "book = openpyxl.load_workbook('AirQuality201807.xlsx')\n",
    "\n",
    "active_sheet = book.active         #作用中的工作表，開啟檔案時預設為第 1 個工作表\n",
    "\n",
    "print(book.get_sheet_names())\n",
    "\n",
    "print(type(active_sheet))\n",
    "print('active sheet: ', active_sheet.title)\n",
    "\n",
    "#sheet = book.get_sheet_by_name(\"March\")\n",
    "\n",
    "for sheet in book:\n",
    "    print(sheet.title)\n",
    "    \n",
    "    if 'O3' in sheet.title:\n",
    "        sheet_O3 = sheet.title\n",
    "        \n",
    "\n",
    "sheet = book.get_sheet_by_name(sheet_O3)\n",
    "print('O3 (臭氧) 工作表：', sheet.title)"
   ]
  },
  {
   "cell_type": "markdown",
   "metadata": {},
   "source": [
    "一個工作簿可以有多個工作表\n",
    "\n",
    "book.get_sheet_names() 可以取得工作表的名稱\n",
    "\n",
    "工作表的 title 屬性為工作表的名稱\n",
    "\n",
    "利用名稱呼叫 get_sheet_by_name() 可以取得某一工作表\n",
    "\n",
    "`\n",
    "sheet = book.get_sheet_by_name(sheet_O3)\n",
    "`\n",
    "\n",
    "<img src=\"sample9.png\" align=\"left\">"
   ]
  },
  {
   "cell_type": "code",
   "execution_count": null,
   "metadata": {
    "collapsed": true
   },
   "outputs": [],
   "source": []
  }
 ],
 "metadata": {
  "kernelspec": {
   "display_name": "Python 3",
   "language": "python",
   "name": "python3"
  },
  "language_info": {
   "codemirror_mode": {
    "name": "ipython",
    "version": 3
   },
   "file_extension": ".py",
   "mimetype": "text/x-python",
   "name": "python",
   "nbconvert_exporter": "python",
   "pygments_lexer": "ipython3",
   "version": "3.6.5"
  }
 },
 "nbformat": 4,
 "nbformat_minor": 2
}
