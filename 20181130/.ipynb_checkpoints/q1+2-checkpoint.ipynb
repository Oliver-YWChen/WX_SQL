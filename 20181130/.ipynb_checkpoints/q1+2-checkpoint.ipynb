{
 "cells": [
  {
   "cell_type": "code",
   "execution_count": 137,
   "metadata": {
    "scrolled": true
   },
   "outputs": [
    {
     "ename": "OperationalError",
     "evalue": "table albums already exists",
     "output_type": "error",
     "traceback": [
      "\u001b[1;31m---------------------------------------------------------------------------\u001b[0m",
      "\u001b[1;31mOperationalError\u001b[0m                          Traceback (most recent call last)",
      "\u001b[1;32m<ipython-input-137-f56ccaca3721>\u001b[0m in \u001b[0;36m<module>\u001b[1;34m()\u001b[0m\n\u001b[0;32m     10\u001b[0m                   (ID, Name, Adress, \n\u001b[0;32m     11\u001b[0m                    county, town) \n\u001b[1;32m---> 12\u001b[1;33m                \"\"\")\n\u001b[0m\u001b[0;32m     13\u001b[0m \u001b[1;33m\u001b[0m\u001b[0m\n\u001b[0;32m     14\u001b[0m \u001b[0mbook\u001b[0m \u001b[1;33m=\u001b[0m \u001b[0mopenpyxl\u001b[0m\u001b[1;33m.\u001b[0m\u001b[0mload_workbook\u001b[0m\u001b[1;33m(\u001b[0m\u001b[1;34m'711.xlsx'\u001b[0m\u001b[1;33m)\u001b[0m\u001b[1;33m\u001b[0m\u001b[0m\n",
      "\u001b[1;31mOperationalError\u001b[0m: table albums already exists"
     ]
    }
   ],
   "source": [
    "import sqlite3\n",
    "import openpyxl\n",
    "from openpyxl import Workbook\n",
    " \n",
    "conn = sqlite3.connect(\"711.db\")\n",
    " \n",
    "cursor = conn.cursor()\n",
    " \n",
    "cursor.execute(\"\"\"CREATE TABLE albums\n",
    "                  (ID, Name, Adress, \n",
    "                   county, town) \n",
    "               \"\"\")\n",
    "\n",
    "book = openpyxl.load_workbook('711.xlsx')\n",
    "sheet = book.active\n",
    "\n",
    "T = []\n",
    "\n",
    "\n",
    "for row in sheet.iter_rows(min_row = 1, min_col = 1, max_row = 5248, max_col = 3):\n",
    "    n = 0\n",
    "    t = []\n",
    "    \n",
    "    for cell in row:\n",
    "        n = n + 1\n",
    "        c = cell.value\n",
    "        t.append(c)\n",
    "\n",
    "        if n == 3:\n",
    "            if c[2] == '市':\n",
    "                a = c.split('市', 1)\n",
    "                county = a[0] + '市'\n",
    "                b = a[1]\n",
    "                \n",
    "                if b[1]=='區' or b[2]=='區':\n",
    "                    c = b.split('區')\n",
    "                    town = c[0] + '區'\n",
    "                elif b[2]=='鄉':\n",
    "                    c = b.split('鄉')\n",
    "                    town = c[0] + '鄉'\n",
    "                elif b[2]=='鎮':\n",
    "                    c = b.split('鎮')\n",
    "                    town = c[0] + '鎮'\n",
    "                elif b[2]=='市':\n",
    "                    c = b.split('市')\n",
    "                    town = c[0] + '市'\n",
    "          \n",
    "            elif c[2] == '縣':\n",
    "                a = c.split('縣', 1)\n",
    "                county = a[0] + '縣'\n",
    "                b = a[1]\n",
    "            \n",
    "                if b[2]=='區' or b[1]=='區':\n",
    "                    c = b.split('區')\n",
    "                    town = c[0] + '區'\n",
    "                elif b[2]=='鄉':\n",
    "                    c = b.split('鄉')\n",
    "                    town = c[0] + '鄉'\n",
    "                elif b[2]=='鎮':\n",
    "                    c = b.split('鎮')\n",
    "                    town = c[0] + '鎮'\n",
    "                elif b[2]=='市':\n",
    "                    c = b.split('市')\n",
    "                    town = c[0] + '市'\n",
    "            \n",
    "            t.append(county)\n",
    "            t.append(town)\n",
    "    T.append(tuple(t))\n",
    "\n",
    "albums_entry = T\n",
    "cursor.executemany(\"INSERT INTO albums VALUES (?,?,?,?,?)\", albums_entry)\n",
    "conn.commit()\n",
    "\n",
    "conn.close()"
   ]
  },
  {
   "cell_type": "code",
   "execution_count": 138,
   "metadata": {
    "scrolled": true
   },
   "outputs": [
    {
     "name": "stdout",
     "output_type": "stream",
     "text": [
      "雲林7-11總數：102\n",
      "台北市中山區7-11總數：106\n",
      "新北市板橋區7-11總數：110\n",
      "桃園市中壢區7-11總數：116\n",
      "桃園市桃園區7-11總數：120\n"
     ]
    }
   ],
   "source": [
    "import sqlite3\n",
    " \n",
    "conn = sqlite3.connect(\"711.db\")\n",
    "cursor = conn.cursor()\n",
    "\n",
    "\n",
    "sql = \"SELECT * FROM albums WHERE county=?\"\n",
    "cursor.execute(sql, [(\"雲林縣\")])\n",
    "U = len(cursor.fetchall())\n",
    "\n",
    "print('雲林7-11總數：' + str(U))\n",
    "\n",
    "\n",
    "sql2 = \"SELECT DISTINCT county,town FROM albums\"\n",
    "cursor.execute(sql2)\n",
    "L = cursor.fetchall()\n",
    "\n",
    "\n",
    "n = 0\n",
    "for i in range(len(L)):\n",
    "    T = L[i]\n",
    "    sql3 = \"SELECT * from albums where county=? and town=?\" \n",
    "    cursor.execute(sql3, [T[0],T[1]])\n",
    "    \n",
    "    n += 1\n",
    "    S = len(cursor.fetchall())\n",
    "    \n",
    "    if S > U:\n",
    "        print(str(T[0]) + str(T[1]) + '7-11總數：' + str(S))\n"
   ]
  },
  {
   "cell_type": "code",
   "execution_count": null,
   "metadata": {},
   "outputs": [],
   "source": []
  }
 ],
 "metadata": {
  "kernelspec": {
   "display_name": "Python 3",
   "language": "python",
   "name": "python3"
  },
  "language_info": {
   "codemirror_mode": {
    "name": "ipython",
    "version": 3
   },
   "file_extension": ".py",
   "mimetype": "text/x-python",
   "name": "python",
   "nbconvert_exporter": "python",
   "pygments_lexer": "ipython3",
   "version": "3.7.0"
  }
 },
 "nbformat": 4,
 "nbformat_minor": 2
}
