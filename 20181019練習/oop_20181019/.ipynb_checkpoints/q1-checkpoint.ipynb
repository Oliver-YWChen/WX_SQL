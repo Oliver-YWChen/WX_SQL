{
 "cells": [
  {
   "cell_type": "code",
   "execution_count": 9,
   "metadata": {},
   "outputs": [],
   "source": [
    "#Q1\n",
    "\n",
    "from openpyxl import Workbook\n",
    "\n",
    "book = Workbook()\n",
    "sheet = book.active\n",
    "\n",
    "rows = []\n",
    "N = []\n",
    "\n",
    "for i in range(100):\n",
    "    N = [i + 1] * (i + 1)\n",
    "    rows.append(N)\n",
    "\n",
    "for row in rows:\n",
    "    sheet.append(row)\n",
    "\n",
    "book.save('q1.xlsx')"
   ]
  },
  {
   "cell_type": "code",
   "execution_count": 31,
   "metadata": {},
   "outputs": [
    {
     "name": "stdout",
     "output_type": "stream",
     "text": [
      "Number of values: 8625\n",
      "Maximum value: 549\n",
      "Minimum value: 9\n",
      "Mean: 70.66515942028985\n",
      "Median: 59\n",
      "Standard deviation: 48.47823730461002\n"
     ]
    }
   ],
   "source": [
    "#Q2\n",
    "\n",
    "import openpyxl\n",
    "import statistics as stats\n",
    "\n",
    "book = openpyxl.load_workbook('Mailiao.xlsx' , data_only = True)\n",
    "sheet = book.active\n",
    "\n",
    "values = []\n",
    "\n",
    "for colum in sheet.iter_cols(min_row=2 ,min_col=5 ,max_row=8761 ,max_col=5):\n",
    "    for cell in colum:\n",
    "        if cell.value != -1:\n",
    "            values.append(cell.value)\n",
    "            \n",
    "#print(value)\n",
    "\n",
    "print(\"Number of values: {0}\".format(len(values)))\n",
    "print(\"Maximum value: {0}\".format(max(values)))\n",
    "print(\"Minimum value: {0}\".format(min(values)))\n",
    "print(\"Mean: {0}\".format(stats.mean(values)))\n",
    "print(\"Median: {0}\".format(stats.median(values)))\n",
    "print(\"Standard deviation: {0}\".format(stats.stdev(values)))"
   ]
  },
  {
   "cell_type": "code",
   "execution_count": 99,
   "metadata": {},
   "outputs": [
    {
     "name": "stdout",
     "output_type": "stream",
     "text": [
      "面積為:418\n"
     ]
    }
   ],
   "source": [
    "#Q3\n",
    "\n",
    "import openpyxl\n",
    "\n",
    "book = openpyxl.load_workbook('q3.xlsx' , data_only = True)\n",
    "sheet = book.active\n",
    "\n",
    "Ps = []\n",
    "\n",
    "for row in sheet.iter_rows(min_row=1 ,min_col=2 ,max_row=17 ,max_col=3):\n",
    "    for cell in row:\n",
    "        Ps.append(cell.value)\n",
    "        \n",
    "Ps.append(Ps[0])\n",
    "Ps.append(Ps[1])\n",
    "\n",
    "count = 0\n",
    "area = 0 \n",
    "P_num = int(len(Ps)*0.5)\n",
    "\n",
    "for i in range(P_num-1):\n",
    "    a = (Ps[count]*Ps[count+3]-Ps[count+1]*Ps[count+2])*0.5\n",
    "    area = area + a\n",
    "    count = count + 2\n",
    "    \n",
    "print('面積為:%d' %area)"
   ]
  }
 ],
 "metadata": {
  "kernelspec": {
   "display_name": "Python 3",
   "language": "python",
   "name": "python3"
  },
  "language_info": {
   "codemirror_mode": {
    "name": "ipython",
    "version": 3
   },
   "file_extension": ".py",
   "mimetype": "text/x-python",
   "name": "python",
   "nbconvert_exporter": "python",
   "pygments_lexer": "ipython3",
   "version": "3.6.5"
  }
 },
 "nbformat": 4,
 "nbformat_minor": 2
}
